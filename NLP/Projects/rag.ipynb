{
 "cells": [
  {
   "cell_type": "markdown",
   "id": "af7cf541",
   "metadata": {},
   "source": [
    "# Simple Wikipedia based RAG Model\n",
    "\n",
    "Scrapes Wikipedia for context used to tailor answers by a small LLM. Fit to run on CPUs/mobiles.\n",
    "\n",
    "Built by Pratham Shah for the Cryptonite Taskphase."
   ]
  },
  {
   "cell_type": "code",
   "execution_count": 1,
   "id": "adf3c84a",
   "metadata": {},
   "outputs": [],
   "source": [
    "import requests\n",
    "import stanza\n",
    "from langchain.chains import ConversationalRetrievalChain\n",
    "from langchain_community.vectorstores import FAISS\n",
    "from langchain_community.embeddings import SentenceTransformerEmbeddings\n",
    "from langchain.text_splitter import CharacterTextSplitter\n",
    "from langchain.schema import Document\n",
    "from langchain.memory import ConversationBufferMemory\n",
    "from langchain_ollama import OllamaLLM"
   ]
  },
  {
   "cell_type": "code",
   "execution_count": 2,
   "id": "98f175e2",
   "metadata": {},
   "outputs": [],
   "source": [
    "stanza.download('en', verbose=False)\n",
    "nlp = stanza.Pipeline('en', processors='tokenize,ner')"
   ]
  },
  {
   "cell_type": "code",
   "execution_count": null,
   "id": "ad9ea0ea",
   "metadata": {},
   "outputs": [],
   "source": [
    "def get_focus(text):\n",
    "    doc = nlp(text)\n",
    "    entities = [ent.text for ent in doc.ents if ent.type in ('PERSON', 'ORG', 'LOC', 'MISC', 'EVENT', 'WORK_OF_ART')]\n",
    "    print(entities)\n",
    "    return entities or [text]"
   ]
  },
  {
   "cell_type": "code",
   "execution_count": 4,
   "id": "b8a60bf0",
   "metadata": {},
   "outputs": [],
   "source": [
    "def search(query, limit=3):\n",
    "    url = \"https://en.wikipedia.org/w/api.php\"\n",
    "    params = {\n",
    "        'action': 'query',\n",
    "        'list': 'search',\n",
    "        'srsearch': query,\n",
    "        'format': 'json',\n",
    "        'srlimit': limit\n",
    "    }\n",
    "    resp = requests.get(url, params=params).json()\n",
    "    return [item['title'] for item in resp['query']['search']]\n",
    "\n",
    "def wikipedia_content(title):\n",
    "    url = \"https://en.wikipedia.org/w/api.php\"\n",
    "    params = {\n",
    "        'action': 'query',\n",
    "        'prop': 'extracts',\n",
    "        'explaintext': True,\n",
    "        'titles': title,\n",
    "        'format': 'json'\n",
    "    }\n",
    "    resp = requests.get(url, params=params).json()\n",
    "    pages = resp['query']['pages']\n",
    "    page = next(iter(pages.values()))\n",
    "    return page.get('extract', '')"
   ]
  },
  {
   "cell_type": "code",
   "execution_count": 5,
   "id": "7452c663",
   "metadata": {},
   "outputs": [],
   "source": [
    "def get_docs_for_query(query):\n",
    "    entities = get_focus(query)\n",
    "    docs = []\n",
    "    text_splitter = CharacterTextSplitter(chunk_size=2000, chunk_overlap=100)\n",
    "    for entity in entities:\n",
    "        titles = search(entity)\n",
    "        for title in titles:\n",
    "            content = wikipedia_content(title)\n",
    "            if content:\n",
    "                chunks = text_splitter.split_text(content)\n",
    "                for chunk in chunks:\n",
    "                    docs.append(Document(page_content=chunk, metadata={\"source\": title}))\n",
    "    return docs"
   ]
  },
  {
   "cell_type": "code",
   "execution_count": 6,
   "id": "921256f5",
   "metadata": {},
   "outputs": [],
   "source": [
    "def build_faiss_index(documents):\n",
    "    embeddings = SentenceTransformerEmbeddings(model_name=\"all-MiniLM-L6-v2\")\n",
    "    vectorstore = FAISS.from_documents(documents, embeddings)\n",
    "    return vectorstore"
   ]
  },
  {
   "cell_type": "code",
   "execution_count": 7,
   "id": "9a23a2b7",
   "metadata": {},
   "outputs": [],
   "source": [
    "def create_chat_chain():\n",
    "    memory = ConversationBufferMemory(memory_key=\"chat_history\", return_messages=True)\n",
    "    \n",
    "    llm = OllamaLLM(model=\"tinyllama\")\n",
    "    dummy_docs = [Document(page_content=\"Init doc\")]\n",
    "    \n",
    "    vectorstore = build_faiss_index(dummy_docs)\n",
    "    retriever = vectorstore.as_retriever(search_kwargs={\"k\":3})\n",
    "    chain = ConversationalRetrievalChain.from_llm(llm=llm, retriever=retriever, memory=memory)\n",
    "    return chain, vectorstore, memory"
   ]
  },
  {
   "cell_type": "code",
   "execution_count": 8,
   "id": "ee715c48",
   "metadata": {},
   "outputs": [],
   "source": [
    "def update_vectorstore(chain, vectorstore, query):\n",
    "    docs = get_docs_for_query(query)\n",
    "    if docs:\n",
    "        vectorstore = build_faiss_index(docs)\n",
    "        chain.retriever = vectorstore.as_retriever(search_kwargs={\"k\":3})\n",
    "    return chain, vectorstore"
   ]
  },
  {
   "cell_type": "code",
   "execution_count": 9,
   "id": "def8e7b0",
   "metadata": {},
   "outputs": [],
   "source": [
    "def chat():\n",
    "    print(\"Wikipedia RAGbot! (type exit/quit to stop)\")\n",
    "    chain, vectorstore, memory = create_chat_chain()\n",
    "    while True:\n",
    "        query = input(\"\\nYou: \")\n",
    "        if query.lower() in ['exit', 'quit']:\n",
    "            print(\"thank you!\")\n",
    "            break\n",
    "        chain, vectorstore = update_vectorstore(chain, vectorstore, query)\n",
    "        result = chain.run(query)\n",
    "        print(\"RAG Model:\", result)\n"
   ]
  },
  {
   "cell_type": "code",
   "execution_count": null,
   "id": "bbc9fe37",
   "metadata": {},
   "outputs": [
    {
     "name": "stdout",
     "output_type": "stream",
     "text": [
      "Wikipedia RAGbot! (type exit/quit to stop)\n"
     ]
    },
    {
     "name": "stderr",
     "output_type": "stream",
     "text": [
      "/tmp/ipykernel_5746/1188113325.py:2: LangChainDeprecationWarning: Please see the migration guide at: https://python.langchain.com/docs/versions/migrating_memory/\n",
      "  memory = ConversationBufferMemory(memory_key=\"chat_history\", return_messages=True)\n",
      "/tmp/ipykernel_5746/3526454640.py:2: LangChainDeprecationWarning: The class `HuggingFaceEmbeddings` was deprecated in LangChain 0.2.2 and will be removed in 1.0. An updated version of the class exists in the :class:`~langchain-huggingface package and should be used instead. To use it run `pip install -U :class:`~langchain-huggingface` and import as `from :class:`~langchain_huggingface import HuggingFaceEmbeddings``.\n",
      "  embeddings = SentenceTransformerEmbeddings(model_name=\"all-MiniLM-L6-v2\")\n",
      "2025-07-24 19:09:01.644684: I tensorflow/core/util/port.cc:153] oneDNN custom operations are on. You may see slightly different numerical results due to floating-point round-off errors from different computation orders. To turn them off, set the environment variable `TF_ENABLE_ONEDNN_OPTS=0`.\n",
      "2025-07-24 19:09:01.739360: E external/local_xla/xla/stream_executor/cuda/cuda_fft.cc:467] Unable to register cuFFT factory: Attempting to register factory for plugin cuFFT when one has already been registered\n",
      "WARNING: All log messages before absl::InitializeLog() is called are written to STDERR\n",
      "E0000 00:00:1753364341.774817    5746 cuda_dnn.cc:8579] Unable to register cuDNN factory: Attempting to register factory for plugin cuDNN when one has already been registered\n",
      "E0000 00:00:1753364341.785066    5746 cuda_blas.cc:1407] Unable to register cuBLAS factory: Attempting to register factory for plugin cuBLAS when one has already been registered\n",
      "W0000 00:00:1753364341.860739    5746 computation_placer.cc:177] computation placer already registered. Please check linkage and avoid linking the same target more than once.\n",
      "W0000 00:00:1753364341.860750    5746 computation_placer.cc:177] computation placer already registered. Please check linkage and avoid linking the same target more than once.\n",
      "W0000 00:00:1753364341.860751    5746 computation_placer.cc:177] computation placer already registered. Please check linkage and avoid linking the same target more than once.\n",
      "W0000 00:00:1753364341.860752    5746 computation_placer.cc:177] computation placer already registered. Please check linkage and avoid linking the same target more than once.\n",
      "2025-07-24 19:09:01.870577: I tensorflow/core/platform/cpu_feature_guard.cc:210] This TensorFlow binary is optimized to use available CPU instructions in performance-critical operations.\n",
      "To enable the following instructions: AVX2 AVX_VNNI FMA, in other operations, rebuild TensorFlow with the appropriate compiler flags.\n"
     ]
    },
    {
     "name": "stdout",
     "output_type": "stream",
     "text": [
      "nothing found!\n"
     ]
    },
    {
     "name": "stderr",
     "output_type": "stream",
     "text": [
      "/tmp/ipykernel_5746/3209190297.py:10: LangChainDeprecationWarning: The method `Chain.run` was deprecated in langchain 0.1.0 and will be removed in 1.0. Use :meth:`~invoke` instead.\n",
      "  result = chain.run(query)\n"
     ]
    }
   ],
   "source": [
    "chat()"
   ]
  }
 ],
 "metadata": {
  "kernelspec": {
   "display_name": "Python 3",
   "language": "python",
   "name": "python3"
  },
  "language_info": {
   "codemirror_mode": {
    "name": "ipython",
    "version": 3
   },
   "file_extension": ".py",
   "mimetype": "text/x-python",
   "name": "python",
   "nbconvert_exporter": "python",
   "pygments_lexer": "ipython3",
   "version": "3.10.12"
  }
 },
 "nbformat": 4,
 "nbformat_minor": 5
}
